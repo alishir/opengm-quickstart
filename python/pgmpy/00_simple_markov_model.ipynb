{
 "cells": [
  {
   "cell_type": "code",
   "execution_count": 43,
   "metadata": {},
   "outputs": [
    {
     "name": "stdout",
     "output_type": "stream",
     "text": [
      "[[ 30.   5.]\n",
      " [  1.  10.]]\n",
      "(A _|_ C | B, D)\n",
      "(C _|_ A | B, D)\n",
      "(B _|_ D | A, C)\n",
      "(D _|_ B | A, C)\n",
      "{'A': 0, 'C': 1, 'B': 1, 'D': 0}\n"
     ]
    }
   ],
   "source": [
    "import numpy as np\n",
    "from pgmpy.models import MarkovModel \n",
    "from pgmpy.factors.discrete import DiscreteFactor\n",
    "from pgmpy.inference import BeliefPropagation\n",
    "\n",
    "model = MarkovModel([('A', 'B'), ('B', 'C'), ('C', 'D'), ('D', 'A')])\n",
    "factor_a_b = DiscreteFactor(['A', 'B'], [2, 2], np.array([30, 5, 1, 10]))\n",
    "print factor_a_b.values\n",
    "factor_b_c = DiscreteFactor(['B', 'C'], [2, 2], np.array([100, 1, 1, 100]))\n",
    "factor_c_d = DiscreteFactor(['C', 'D'], [2, 2], np.array([1, 100, 100, 1]))\n",
    "factor_d_a = DiscreteFactor(['D', 'A'], [2, 2], np.array([100, 1, 1, 100]))\n",
    "model.add_factors(factor_a_b, factor_b_c, factor_c_d, factor_d_a)\n",
    "print model.get_local_independencies()\n",
    "\n",
    "bp = BeliefPropagation(model)\n",
    "# print bp.query(['A'])['A']\n",
    "# print bp.query(['B'])['B']\n",
    "# print bp.query(['C'])['C']\n",
    "# print bp.query(['D'])['D']\n",
    "print bp.map_query()\n"
   ]
  },
  {
   "cell_type": "code",
   "execution_count": null,
   "metadata": {
    "collapsed": true
   },
   "outputs": [],
   "source": []
  }
 ],
 "metadata": {
  "kernelspec": {
   "display_name": "Python 2",
   "language": "python",
   "name": "python2"
  },
  "language_info": {
   "codemirror_mode": {
    "name": "ipython",
    "version": 2
   },
   "file_extension": ".py",
   "mimetype": "text/x-python",
   "name": "python",
   "nbconvert_exporter": "python",
   "pygments_lexer": "ipython2",
   "version": "2.7.13"
  }
 },
 "nbformat": 4,
 "nbformat_minor": 2
}
