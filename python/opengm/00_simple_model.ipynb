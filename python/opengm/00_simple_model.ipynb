{
 "cells": [
  {
   "cell_type": "code",
   "execution_count": 1,
   "metadata": {
    "collapsed": true
   },
   "outputs": [],
   "source": [
    "%matplotlib inline\n",
    "\n",
    "import opengm\n",
    "import numpy as np\n",
    "\n",
    "import matplotlib.pyplot as plt"
   ]
  },
  {
   "cell_type": "code",
   "execution_count": 34,
   "metadata": {},
   "outputs": [
    {
     "name": "stdout",
     "output_type": "stream",
     "text": [
      "300000.0\n",
      "5000000.0\n",
      "1000000.0\n",
      "100000.0\n"
     ]
    },
    {
     "ename": "RuntimeError",
     "evalue": "given seminring (operator = multiplier ,accumulator = maximizer) is not implemented for this solver\n {'__NONE__': {('adder', 'minimizer'): (<class 'opengm._inference_injector._LpCplex'>, <class 'opengm._inference_parameter_injector._LpCplex'>)}}",
     "output_type": "error",
     "traceback": [
      "\u001b[0;31m---------------------------------------------------------------------------\u001b[0m",
      "\u001b[0;31mRuntimeError\u001b[0m                              Traceback (most recent call last)",
      "\u001b[0;32m<ipython-input-34-f174650cfa47>\u001b[0m in \u001b[0;36m<module>\u001b[0;34m()\u001b[0m\n\u001b[1;32m     23\u001b[0m \u001b[0;31m# opengm.inference.DynamicProgramming # graphical model must be a tree / must not have loops\u001b[0m\u001b[0;34m\u001b[0m\u001b[0;34m\u001b[0m\u001b[0m\n\u001b[1;32m     24\u001b[0m \u001b[0;34m\u001b[0m\u001b[0m\n\u001b[0;32m---> 25\u001b[0;31m \u001b[0mbp\u001b[0m \u001b[0;34m=\u001b[0m \u001b[0mopengm\u001b[0m\u001b[0;34m.\u001b[0m\u001b[0minference\u001b[0m\u001b[0;34m.\u001b[0m\u001b[0mLpCplex\u001b[0m\u001b[0;34m(\u001b[0m\u001b[0mgm\u001b[0m\u001b[0;34m)\u001b[0m\u001b[0;34m\u001b[0m\u001b[0m\n\u001b[0m\u001b[1;32m     26\u001b[0m \u001b[0;31m# bp = opengm.inference.AStar(gm=gm)\u001b[0m\u001b[0;34m\u001b[0m\u001b[0;34m\u001b[0m\u001b[0m\n\u001b[1;32m     27\u001b[0m \u001b[0;32mprint\u001b[0m \u001b[0mgm\u001b[0m\u001b[0;34m.\u001b[0m\u001b[0misAcyclic\u001b[0m\u001b[0;34m(\u001b[0m\u001b[0;34m)\u001b[0m\u001b[0;34m\u001b[0m\u001b[0m\n",
      "\u001b[0;32m/home/ali/projects/GM/.env/lib/python2.7/site-packages/opengm/_inference_interface_generator.py\u001b[0m in \u001b[0;36minference_init\u001b[0;34m(self, gm, accumulator, parameter)\u001b[0m\n\u001b[1;32m    200\u001b[0m             \u001b[0mdictStr\u001b[0m\u001b[0;34m=\u001b[0m\u001b[0mstr\u001b[0m\u001b[0;34m(\u001b[0m\u001b[0minferenceClasses\u001b[0m\u001b[0;34m.\u001b[0m\u001b[0mimplDict\u001b[0m\u001b[0;34m)\u001b[0m\u001b[0;34m\u001b[0m\u001b[0m\n\u001b[1;32m    201\u001b[0m             raise RuntimeError(\"given seminring (operator = %s ,accumulator = %s) is not implemented for this solver\\n %s\" % \\\n\u001b[0;32m--> 202\u001b[0;31m                 (self.operator, self.accumulator,dictStr))\n\u001b[0m\u001b[1;32m    203\u001b[0m \u001b[0;34m\u001b[0m\u001b[0m\n\u001b[1;32m    204\u001b[0m         \u001b[0;32mif\u001b[0m \u001b[0mself\u001b[0m\u001b[0;34m.\u001b[0m\u001b[0m_meta_parameter\u001b[0m \u001b[0;32mis\u001b[0m \u001b[0mNone\u001b[0m\u001b[0;34m:\u001b[0m\u001b[0;34m\u001b[0m\u001b[0m\n",
      "\u001b[0;31mRuntimeError\u001b[0m: given seminring (operator = multiplier ,accumulator = maximizer) is not implemented for this solver\n {'__NONE__': {('adder', 'minimizer'): (<class 'opengm._inference_injector._LpCplex'>, <class 'opengm._inference_parameter_injector._LpCplex'>)}}"
     ]
    }
   ],
   "source": [
    "gm = opengm.graphicalModel([2,2,2,2], operator='multiplier')\n",
    "# print \"num of vars: \", int(gm.numberOfVariables)\n",
    "# print \"num of states: \", int(gm.numberOfLabels(2))\n",
    "\n",
    "factors = np.array([((30,5),(1,10)),\n",
    "             ((100,1),(1,100)),\n",
    "              ((1,100),(100,1)),\n",
    "              ((100,1),(1,100))])\n",
    "factors_vars = np.array([((0,1)), ((1,2)), ((2,3)), ((0,3))])\n",
    "fids = []\n",
    "for i in xrange(len(factors)):\n",
    "    fid = gm.addFunction(factors[i])\n",
    "    gm.addFactor(fid, factors_vars[i])\n",
    "    fids.append(fid)\n",
    "\n",
    "# opengm.visualizeGm(gm, layout='circo')\n",
    "print gm.evaluate([0,0,0,1])\n",
    "print gm.evaluate([0,1,1,0])\n",
    "print gm.evaluate([1,0,0,1])\n",
    "print gm.evaluate([1,1,1,1])\n",
    "inferPara = opengm.InfParam(steps=1000, damping=0.0)\n",
    "# bp = opengm.inference.BeliefPropagation(gm=gm, parameter=inferPara)\n",
    "# opengm.inference.DynamicProgramming # graphical model must be a tree / must not have loops\n",
    "\n",
    "bp = opengm.inference.LpCplex(gm)\n",
    "# bp = opengm.inference.AStar(gm=gm)\n",
    "print gm.isAcyclic()\n",
    "bp.infer()\n",
    "print bp.arg(), bp.value()\n"
   ]
  },
  {
   "cell_type": "code",
   "execution_count": 49,
   "metadata": {},
   "outputs": [
    {
     "name": "stdout",
     "output_type": "stream",
     "text": [
      "12.6115377536\n",
      "15.4249484704\n",
      "13.815510558\n",
      "11.512925465\n"
     ]
    },
    {
     "ename": "RuntimeError",
     "evalue": "given seminring (operator = adder ,accumulator = <opengm._inf_param.InfParam object at 0x7f255e885f10>) is not implemented for this solver\n {'__NONE__': {('adder', 'logsumexp'): (<class 'opengm._inference_injector._BeliefPropagation'>, <class 'opengm._inference_parameter_injector._BeliefPropagation'>), ('adder', 'minimizer'): (<class 'opengm._inference_injector._BeliefPropagation'>, <class 'opengm._inference_parameter_injector._BeliefPropagation'>), ('adder', 'maximizer'): (<class 'opengm._inference_injector._BeliefPropagation'>, <class 'opengm._inference_parameter_injector._BeliefPropagation'>), ('multiplier', 'integrator'): (<class 'opengm._inference_injector._BeliefPropagation'>, <class 'opengm._inference_parameter_injector._BeliefPropagation'>), ('adder', 'integrator'): (<class 'opengm._inference_injector._BeliefPropagation'>, <class 'opengm._inference_parameter_injector._BeliefPropagation'>), ('multiplier', 'maximizer'): (<class 'opengm._inference_injector._BeliefPropagation'>, <class 'opengm._inference_parameter_injector._BeliefPropagation'>), ('multiplier', 'minimizer'): (<class 'opengm._inference_injector._BeliefPropagation'>, <class 'opengm._inference_parameter_injector._BeliefPropagation'>)}}",
     "output_type": "error",
     "traceback": [
      "\u001b[0;31m---------------------------------------------------------------------------\u001b[0m",
      "\u001b[0;31mRuntimeError\u001b[0m                              Traceback (most recent call last)",
      "\u001b[0;32m<ipython-input-49-cb22656d9c88>\u001b[0m in \u001b[0;36m<module>\u001b[0;34m()\u001b[0m\n\u001b[1;32m     21\u001b[0m \u001b[0;32mprint\u001b[0m \u001b[0mgm\u001b[0m\u001b[0;34m.\u001b[0m\u001b[0mevaluate\u001b[0m\u001b[0;34m(\u001b[0m\u001b[0;34m[\u001b[0m\u001b[0;36m1\u001b[0m\u001b[0;34m,\u001b[0m\u001b[0;36m1\u001b[0m\u001b[0;34m,\u001b[0m\u001b[0;36m1\u001b[0m\u001b[0;34m,\u001b[0m\u001b[0;36m1\u001b[0m\u001b[0;34m]\u001b[0m\u001b[0;34m)\u001b[0m\u001b[0;34m\u001b[0m\u001b[0m\n\u001b[1;32m     22\u001b[0m \u001b[0minferPara\u001b[0m \u001b[0;34m=\u001b[0m \u001b[0mopengm\u001b[0m\u001b[0;34m.\u001b[0m\u001b[0mInfParam\u001b[0m\u001b[0;34m(\u001b[0m\u001b[0msteps\u001b[0m\u001b[0;34m=\u001b[0m\u001b[0;36m1000\u001b[0m\u001b[0;34m,\u001b[0m \u001b[0mdamping\u001b[0m\u001b[0;34m=\u001b[0m\u001b[0;36m0.0\u001b[0m\u001b[0;34m)\u001b[0m\u001b[0;34m\u001b[0m\u001b[0m\n\u001b[0;32m---> 23\u001b[0;31m \u001b[0mbp\u001b[0m \u001b[0;34m=\u001b[0m \u001b[0mopengm\u001b[0m\u001b[0;34m.\u001b[0m\u001b[0minference\u001b[0m\u001b[0;34m.\u001b[0m\u001b[0mBeliefPropagation\u001b[0m\u001b[0;34m(\u001b[0m\u001b[0mgm\u001b[0m\u001b[0;34m,\u001b[0m \u001b[0minferPara\u001b[0m\u001b[0;34m)\u001b[0m\u001b[0;34m\u001b[0m\u001b[0m\n\u001b[0m\u001b[1;32m     24\u001b[0m \u001b[0mbp\u001b[0m\u001b[0;34m.\u001b[0m\u001b[0minfer\u001b[0m\u001b[0;34m(\u001b[0m\u001b[0;34m)\u001b[0m\u001b[0;34m\u001b[0m\u001b[0m\n\u001b[1;32m     25\u001b[0m \u001b[0;32mprint\u001b[0m \u001b[0mbp\u001b[0m\u001b[0;34m.\u001b[0m\u001b[0marg\u001b[0m\u001b[0;34m(\u001b[0m\u001b[0;34m)\u001b[0m\u001b[0;34m,\u001b[0m \u001b[0mbp\u001b[0m\u001b[0;34m.\u001b[0m\u001b[0mvalue\u001b[0m\u001b[0;34m(\u001b[0m\u001b[0;34m)\u001b[0m\u001b[0;34m\u001b[0m\u001b[0m\n",
      "\u001b[0;32m/home/ali/projects/GM/.env/lib/python2.7/site-packages/opengm/_inference_interface_generator.py\u001b[0m in \u001b[0;36minference_init\u001b[0;34m(self, gm, accumulator, parameter)\u001b[0m\n\u001b[1;32m    200\u001b[0m             \u001b[0mdictStr\u001b[0m\u001b[0;34m=\u001b[0m\u001b[0mstr\u001b[0m\u001b[0;34m(\u001b[0m\u001b[0minferenceClasses\u001b[0m\u001b[0;34m.\u001b[0m\u001b[0mimplDict\u001b[0m\u001b[0;34m)\u001b[0m\u001b[0;34m\u001b[0m\u001b[0m\n\u001b[1;32m    201\u001b[0m             raise RuntimeError(\"given seminring (operator = %s ,accumulator = %s) is not implemented for this solver\\n %s\" % \\\n\u001b[0;32m--> 202\u001b[0;31m                 (self.operator, self.accumulator,dictStr))\n\u001b[0m\u001b[1;32m    203\u001b[0m \u001b[0;34m\u001b[0m\u001b[0m\n\u001b[1;32m    204\u001b[0m         \u001b[0;32mif\u001b[0m \u001b[0mself\u001b[0m\u001b[0;34m.\u001b[0m\u001b[0m_meta_parameter\u001b[0m \u001b[0;32mis\u001b[0m \u001b[0mNone\u001b[0m\u001b[0;34m:\u001b[0m\u001b[0;34m\u001b[0m\u001b[0m\n",
      "\u001b[0;31mRuntimeError\u001b[0m: given seminring (operator = adder ,accumulator = <opengm._inf_param.InfParam object at 0x7f255e885f10>) is not implemented for this solver\n {'__NONE__': {('adder', 'logsumexp'): (<class 'opengm._inference_injector._BeliefPropagation'>, <class 'opengm._inference_parameter_injector._BeliefPropagation'>), ('adder', 'minimizer'): (<class 'opengm._inference_injector._BeliefPropagation'>, <class 'opengm._inference_parameter_injector._BeliefPropagation'>), ('adder', 'maximizer'): (<class 'opengm._inference_injector._BeliefPropagation'>, <class 'opengm._inference_parameter_injector._BeliefPropagation'>), ('multiplier', 'integrator'): (<class 'opengm._inference_injector._BeliefPropagation'>, <class 'opengm._inference_parameter_injector._BeliefPropagation'>), ('adder', 'integrator'): (<class 'opengm._inference_injector._BeliefPropagation'>, <class 'opengm._inference_parameter_injector._BeliefPropagation'>), ('multiplier', 'maximizer'): (<class 'opengm._inference_injector._BeliefPropagation'>, <class 'opengm._inference_parameter_injector._BeliefPropagation'>), ('multiplier', 'minimizer'): (<class 'opengm._inference_injector._BeliefPropagation'>, <class 'opengm._inference_parameter_injector._BeliefPropagation'>)}}"
     ]
    }
   ],
   "source": [
    "gm = opengm.graphicalModel([2,2,2,2], operator='adder')\n",
    "# print \"num of vars: \", int(gm.numberOfVariables)\n",
    "# print \"num of states: \", int(gm.numberOfLabels(2))\n",
    "\n",
    "factors = np.array([((30,5),(1,10)),\n",
    "             ((100,1),(1,100)),\n",
    "              ((1,100),(100,1)),\n",
    "              ((100,1),(1,100))])\n",
    "factors = np.log(factors)\n",
    "factors_vars = np.array([((0,1)), ((1,2)), ((2,3)), ((0,3))])\n",
    "fids = []\n",
    "for i in xrange(len(factors)):\n",
    "    fid = gm.addFunction(factors[i])\n",
    "    gm.addFactor(fid, factors_vars[i])\n",
    "    fids.append(fid)\n",
    "\n",
    "# opengm.visualizeGm(gm, layout='circo')\n",
    "print gm.evaluate([0,0,0,1])\n",
    "print gm.evaluate([0,1,1,0])\n",
    "print gm.evaluate([1,0,0,1])\n",
    "print gm.evaluate([1,1,1,1])\n",
    "inferPara = opengm.InfParam(steps=1000, damping=0.0)\n",
    "bp = opengm.inference.BeliefPropagation(gm, inferPara)\n",
    "bp.infer()\n",
    "print bp.arg(), bp.value()\n"
   ]
  },
  {
   "cell_type": "code",
   "execution_count": null,
   "metadata": {
    "collapsed": true
   },
   "outputs": [],
   "source": [
    "bp = opengm.inference.DynamicProgramming"
   ]
  },
  {
   "cell_type": "code",
   "execution_count": null,
   "metadata": {
    "collapsed": true
   },
   "outputs": [],
   "source": [
    "bp = opengm.inference.DualDecompositionSubgradient"
   ]
  },
  {
   "cell_type": "code",
   "execution_count": null,
   "metadata": {
    "collapsed": true
   },
   "outputs": [],
   "source": [
    "bp = opengm.inference.DualDecompositionSubgradient"
   ]
  }
 ],
 "metadata": {
  "kernelspec": {
   "display_name": "Python 2",
   "language": "python",
   "name": "python2"
  },
  "language_info": {
   "codemirror_mode": {
    "name": "ipython",
    "version": 2
   },
   "file_extension": ".py",
   "mimetype": "text/x-python",
   "name": "python",
   "nbconvert_exporter": "python",
   "pygments_lexer": "ipython2",
   "version": "2.7.13"
  }
 },
 "nbformat": 4,
 "nbformat_minor": 2
}
