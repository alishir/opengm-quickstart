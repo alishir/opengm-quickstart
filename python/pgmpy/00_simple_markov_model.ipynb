{
 "cells": [
  {
   "cell_type": "code",
   "execution_count": 3,
   "metadata": {},
   "outputs": [
    {
     "name": "stdout",
     "output_type": "stream",
     "text": [
      "[[ 30.   5.]\n",
      " [  1.  10.]]\n",
      "(A _|_ C | B, D)\n",
      "(C _|_ A | B, D)\n",
      "(B _|_ D | A, C)\n",
      "(D _|_ B | A, C)\n",
      "{'A': 0, 'C': 1, 'B': 1, 'D': 0}\n"
     ]
    }
   ],
   "source": [
    "import numpy as np\n",
    "from pgmpy.models import MarkovModel \n",
    "from pgmpy.factors.discrete import DiscreteFactor\n",
    "from pgmpy.inference import BeliefPropagation\n",
    "\n",
    "model = MarkovModel([('A', 'B'), ('B', 'C'), ('C', 'D'), ('D', 'A')])\n",
    "factor_a_b = DiscreteFactor(['A', 'B'], [2, 2], np.array([30, 5, 1, 10]))\n",
    "print factor_a_b.values\n",
    "factor_b_c = DiscreteFactor(['B', 'C'], [2, 2], np.array([100, 1, 1, 100]))\n",
    "factor_c_d = DiscreteFactor(['C', 'D'], [2, 2], np.array([1, 100, 100, 1]))\n",
    "factor_d_a = DiscreteFactor(['D', 'A'], [2, 2], np.array([100, 1, 1, 100]))\n",
    "model.add_factors(factor_a_b, factor_b_c, factor_c_d, factor_d_a)\n",
    "print model.get_local_independencies()\n",
    "BeliefPropagation??\n",
    "bp = BeliefPropagation(model)\n",
    "# print bp.query(['A'])['A']\n",
    "# print bp.query(['B'])['B']\n",
    "# print bp.query(['C'])['C']\n",
    "# print bp.query(['D'])['D']\n",
    "print bp.map_query()\n"
   ]
  },
  {
   "cell_type": "code",
   "execution_count": 24,
   "metadata": {},
   "outputs": [
    {
     "name": "stdout",
     "output_type": "stream",
     "text": [
      "{'A': 1, 'C': 0, 'B': 1, 'E': 1, 'D': 1, 'F': 1}\n",
      "{'A': 1.8323, 'C': 0.89205000000000001, 'B': 1.0649999999999999, 'E': 2.1223999999999998, 'D': 1.7765, 'F': 1.5093000000000001}\n"
     ]
    }
   ],
   "source": [
    "import numpy as np\n",
    "from pgmpy.models import MarkovModel\n",
    "from pgmpy.factors.discrete import DiscreteFactor\n",
    "from pgmpy.inference import Mplp\n",
    "from pgmpy.inference import BeliefPropagation\n",
    "student = MarkovModel()\n",
    "student.add_edges_from([('A', 'B'), ('B', 'C'), ('C', 'D'), ('D', 'E'), ('E', 'F')])\n",
    "factor_a = DiscreteFactor(['A'], [2], np.array([0.54577, 1.8323]))\n",
    "factor_b = DiscreteFactor(['B'], [2], np.array([0.93894, 1.065]))\n",
    "factor_c = DiscreteFactor(['C'], [2], np.array([0.89205, 1.121]))\n",
    "factor_d = DiscreteFactor(['D'], [2], np.array([0.56292, 1.7765]))\n",
    "factor_e = DiscreteFactor(['E'], [2], np.array([0.47117, 2.1224]))\n",
    "factor_f = DiscreteFactor(['F'], [2], np.array([1.5093, 0.66257]))\n",
    "factor_a_b = DiscreteFactor(['A', 'B'], [2, 2], np.array([1.3207, 0.75717, 0.75717, 1.3207]))\n",
    "factor_b_c = DiscreteFactor(['B', 'C'], [2, 2], np.array([0.00024189, 4134.2, 4134.2, 0.00024189]))\n",
    "factor_c_d = DiscreteFactor(['C', 'D'], [2, 2], np.array([0.0043227, 231.34, 231.34, 0.0043227]))\n",
    "# factor_d_e = DiscreteFactor(['D', 'E'], [2, 2], np.array([31.228, 0.032023, 0.032023, 31.228]))\n",
    "factor_e_f = DiscreteFactor(['E', 'F'], [2, 2], np.array([31.228, 0.032023, 0.032023, 31.228]))\n",
    "student.add_factors(factor_a, factor_b, factor_c, factor_d, \n",
    "                    factor_e, factor_f, factor_a_b,\n",
    "                    factor_b_c, factor_c_d, factor_e_f)\n",
    "student.check_model()\n",
    "mplp = Mplp(student)\n",
    "bp = BeliefPropagation(student)\n",
    "print bp.map_query()\n",
    "print mplp.map_query()\n"
   ]
  },
  {
   "cell_type": "code",
   "execution_count": null,
   "metadata": {
    "collapsed": true
   },
   "outputs": [],
   "source": []
  }
 ],
 "metadata": {
  "kernelspec": {
   "display_name": "Python 2",
   "language": "python",
   "name": "python2"
  },
  "language_info": {
   "codemirror_mode": {
    "name": "ipython",
    "version": 2
   },
   "file_extension": ".py",
   "mimetype": "text/x-python",
   "name": "python",
   "nbconvert_exporter": "python",
   "pygments_lexer": "ipython2",
   "version": "2.7.13"
  }
 },
 "nbformat": 4,
 "nbformat_minor": 2
}
