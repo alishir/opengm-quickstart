{
 "cells": [
  {
   "cell_type": "code",
   "execution_count": 1,
   "metadata": {
    "collapsed": true
   },
   "outputs": [],
   "source": [
    "%matplotlib inline\n",
    "import opengm\n",
    "from matplotlib import pyplot as plt\n",
    "import numpy as np\n",
    "import matplotlib.pyplot as plt\n",
    "import matplotlib.cm as cm\n",
    "from PIL import Image\n",
    "\n",
    "# images source: https://www.irisa.fr/vista/Themes/Demos/Debruitage/ImageDenoising.html\n",
    "# input_img = './images/Brain_9pct_u881_z.png'\n",
    "# image = Image.open(input_img).convert(\"L\")\n",
    "# img = np.asarray(image).astype(float)/255\n",
    "# plt.imshow(img, cmap = cm.Greys_r)\n",
    "# plt.show()"
   ]
  },
  {
   "cell_type": "code",
   "execution_count": 2,
   "metadata": {
    "collapsed": true
   },
   "outputs": [],
   "source": [
    "# Generate random binary image\n",
    "# source: http://www.shogun-toolbox.org/static/notebook/current/Binary_Denoising.html\n",
    "import scipy.ndimage\n",
    "im_size = np.array([40, 60], np.int32)\n",
    "im_rand = np.random.random_sample(im_size)\n",
    "# print im_rand[0:10, 0:10]\n",
    "im_bw = np.round(scipy.ndimage.gaussian_filter(im_rand, sigma=3))\n",
    "# print im_bw[0:10, 0:10]\n",
    "noise_level = 5\n",
    "t = np.random.random_sample(im_bw.shape)\n",
    "im_noise = im_bw*(1-t**noise_level) + (1-im_bw)*(t**noise_level)\n",
    "im_noise = np.round(im_noise)  # image binarization"
   ]
  },
  {
   "cell_type": "code",
   "execution_count": 3,
   "metadata": {},
   "outputs": [
    {
     "data": {
      "image/png": "[encoded data removed]",
      "text/plain": [
       "<matplotlib.figure.Figure at 0x7efe97db1410>"
      ]
     },
     "metadata": {},
     "output_type": "display_data"
    }
   ],
   "source": [
    "# black is 0, white is 1\n",
    "fig, plots = plt.subplots(1, 2, figsize=(12, 4))\n",
    "plots[0].matshow(im_bw, cmap=cm.Greys_r)\n",
    "plots[0].set_title('Binary image')\n",
    "plots[1].matshow(im_noise, cmap=cm.Greys_r)\n",
    "plots[1].set_title('Noise image')\n",
    "# print im_bw[0:10, 30:40]\n",
    "for p in plots:\n",
    "    p.set_xticks(())\n",
    "    p.set_yticks(())\n",
    "plt.show()"
   ]
  },
  {
   "cell_type": "code",
   "execution_count": 4,
   "metadata": {},
   "outputs": [],
   "source": [
    "dimy, dimx = im_noise.shape\n",
    "nvar = dimx * dimy\n",
    "num_labels = 2\n",
    "nstates = np.ones(nvar, dtype=opengm.index_type) * num_labels\n",
    "gm = opengm.graphicalModel(nstates)\n",
    "\n",
    "beta = 0.3\n",
    "nu = 0.3\n",
    "\n",
    "# add unary factors\n",
    "for y in xrange(dimy):\n",
    "    for x in xrange(dimx):\n",
    "        f = np.ones(2, dtype=np.float32)\n",
    "        if im_noise[y,x] == 0:\n",
    "            f[0] = -nu\n",
    "            f[1] = nu\n",
    "        else:\n",
    "            f[1] = -nu\n",
    "            f[0] = nu\n",
    "        fid = gm.addFunction(f)\n",
    "        gm.addFactor(fid, (y * dimx + x,))\n",
    "\n",
    "# x_i and x_j factor\n",
    "f1=np.ones((2,2), dtype=np.float32)\n",
    "f1[0,0] = -beta\n",
    "f1[1,1] = -beta\n",
    "f1[0,1] = beta\n",
    "f1[1,0] = beta\n",
    "\n",
    "\n",
    "fid1 = gm.addFunction(f1)\n",
    "\n",
    "for y in xrange(dimy):\n",
    "    for x in xrange(dimx):\n",
    "        if x + 1 < dimx:\n",
    "            gm.addFactor(fid1, np.array([y * dimx + x, y * dimx + x + 1]))\n",
    "        if y + 1 < dimy:\n",
    "            gm.addFactor(fid1, np.array([y * dimx + x, (y+1) * dimx + x]))"
   ]
  },
  {
   "cell_type": "code",
   "execution_count": 5,
   "metadata": {},
   "outputs": [],
   "source": [
    "# opengm.visualizeGm(gm,plotFunctions=False, layout='neato', plotUnaries=True,\n",
    "#                     plotNonShared=True,relNodeSize=1.0)"
   ]
  },
  {
   "cell_type": "code",
   "execution_count": 10,
   "metadata": {},
   "outputs": [],
   "source": [
    "imgplot=[]\n",
    "\n",
    "class PyCallback(object):\n",
    "    def appendLabelVector(self,labelVector):\n",
    "        #save the labels at each iteration, to examine later.\n",
    "        labelVector=labelVector.reshape(self.shape)\n",
    "        imgplot.append([labelVector])\n",
    "    def __init__(self,shape,numLabels):\n",
    "        self.shape=shape\n",
    "        self.numLabels=numLabels\n",
    "        #matplotlib.interactive(True)\n",
    "        plt.interactive(True)\n",
    "    def checkEnergy(self,inference):\n",
    "        gm=inference.gm()\n",
    "        #the arg method returns the (class) labeling at each pixel.\n",
    "        labelVector=inference.arg()\n",
    "        #evaluate the energy of the graph given the current labeling.\n",
    "        print \"energy  \",gm.evaluate(labelVector)\n",
    "        self.appendLabelVector(labelVector)\n",
    "    def begin(self,inference):\n",
    "        print \"beginning of inference\"\n",
    "        self.checkEnergy(inference)\n",
    "    def end(self,inference):\n",
    "        print \"end of inference\"\n",
    "    def visit(self,inference):\n",
    "        self.checkEnergy(inference)\n",
    "\n",
    "inf=opengm.inference.BeliefPropagation(gm,parameter=opengm.InfParam(damping=0.00))\n",
    "callback=PyCallback(im_noise.shape,num_labels)\n",
    "visitor=inf.pythonVisitor(callback,visitNth=1)\n",
    "\n",
    "inf.infer(visitor)\n",
    "# inf.infer()\n",
    "# result = inf.arg()"
   ]
  },
  {
   "cell_type": "code",
   "execution_count": 7,
   "metadata": {},
   "outputs": [],
   "source": [
    "# fig = plt.figure(figsize=(16, 12))\n",
    "# for (counter, im) in enumerate(imgplot[0:6]):\n",
    "#     a=fig.add_subplot(3,2,counter+1)\n",
    "#     plt.imshow(im[0],cmap=cm.gray_r, interpolation=\"nearest\")\n",
    "\n",
    "# plt.draw()"
   ]
  },
  {
   "cell_type": "code",
   "execution_count": 14,
   "metadata": {},
   "outputs": [
    {
     "data": {
      "image/png": "[encoded data removed]",
      "text/plain": [
       "<matplotlib.figure.Figure at 0x7efe955ada90>"
      ]
     },
     "metadata": {},
     "output_type": "display_data"
    }
   ],
   "source": [
    "fig, plots = plt.subplots(1, 3, figsize=(12, 4))\n",
    "plots[0].matshow(im_bw, cmap=cm.Greys_r)\n",
    "plots[0].set_title('Binary image')\n",
    "plots[1].matshow(im_noise, cmap=cm.Greys_r)\n",
    "plots[1].set_title('Noise image')\n",
    "plots[2].matshow(imgplot[-1][0], cmap=cm.Greys_r)\n",
    "# plots[2].matshow(result.reshape(im_bw.shape), cmap=cm.Greys_r)\n",
    "plots[2].set_title('Denoised image')\n",
    "for p in plots:\n",
    "    p.set_xticks(())\n",
    "    p.set_yticks(())\n",
    "plt.show()"
   ]
  },
  {
   "cell_type": "code",
   "execution_count": null,
   "metadata": {
    "collapsed": true
   },
   "outputs": [],
   "source": []
  }
 ],
 "metadata": {
  "kernelspec": {
   "display_name": "Python 2",
   "language": "python",
   "name": "python2"
  },
  "language_info": {
   "codemirror_mode": {
    "name": "ipython",
    "version": 2
   },
   "file_extension": ".py",
   "mimetype": "text/x-python",
   "name": "python",
   "nbconvert_exporter": "python",
   "pygments_lexer": "ipython2",
   "version": "2.7.13"
  }
 },
 "nbformat": 4,
 "nbformat_minor": 2
}
