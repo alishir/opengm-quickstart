{
 "cells": [
  {
   "cell_type": "code",
   "execution_count": 4,
   "metadata": {
    "collapsed": true
   },
   "outputs": [],
   "source": [
    "%matplotlib inline\n",
    "\n",
    "import opengm\n",
    "import numpy as np\n",
    "\n",
    "import matplotlib.pyplot as plt"
   ]
  },
  {
   "cell_type": "code",
   "execution_count": 16,
   "metadata": {
    "collapsed": true
   },
   "outputs": [],
   "source": [
    "opengm??\n"
   ]
  },
  {
   "cell_type": "code",
   "execution_count": 166,
   "metadata": {},
   "outputs": [
    {
     "name": "stdout",
     "output_type": "stream",
     "text": [
      "300000.0\n",
      "5000000.0\n",
      "1000000.0\n",
      "100000.0\n",
      "[0 1 1 0] 5000000.0\n"
     ]
    }
   ],
   "source": [
    "gm = opengm.graphicalModel([2,2,2,2], operator='multiplier')\n",
    "# print \"num of vars: \", int(gm.numberOfVariables)\n",
    "# print \"num of states: \", int(gm.numberOfLabels(2))\n",
    "\n",
    "factors = np.array([((30,5),(1,10)),\n",
    "             ((100,1),(1,100)),\n",
    "              ((1,100),(100,1)),\n",
    "              ((100,1),(1,100))])\n",
    "factors_vars = np.array([((0,1)), ((1,2)), ((2,3)), ((0,3))])\n",
    "fids = []\n",
    "for i in xrange(len(factors)):\n",
    "    fid = gm.addFunction(factors[i])\n",
    "    gm.addFactor(fid, factors_vars[i])\n",
    "    fids.append(fid)\n",
    "\n",
    "# opengm.visualizeGm(gm, layout='circo')\n",
    "print gm.evaluate([0,0,0,1])\n",
    "print gm.evaluate([0,1,1,0])\n",
    "print gm.evaluate([1,0,0,1])\n",
    "print gm.evaluate([1,1,1,1])\n",
    "# inferPara = opengm.InfParam(steps=100, damping=0.0)\n",
    "# bp = opengm.inference.BeliefPropagation(gm=gm, parameter=inferPara)\n",
    "opengm.inference.GraphCut??\n",
    "bp = opengm.inference.AStar(gm=gm)\n",
    "bp.infer()\n",
    "print bp.arg(), bp.value()"
   ]
  },
  {
   "cell_type": "code",
   "execution_count": null,
   "metadata": {
    "collapsed": true
   },
   "outputs": [],
   "source": []
  }
 ],
 "metadata": {
  "kernelspec": {
   "display_name": "Python 2",
   "language": "python",
   "name": "python2"
  },
  "language_info": {
   "codemirror_mode": {
    "name": "ipython",
    "version": 2
   },
   "file_extension": ".py",
   "mimetype": "text/x-python",
   "name": "python",
   "nbconvert_exporter": "python",
   "pygments_lexer": "ipython2",
   "version": "2.7.13"
  }
 },
 "nbformat": 4,
 "nbformat_minor": 2
}
